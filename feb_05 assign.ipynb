{
 "cells": [
  {
   "cell_type": "markdown",
   "id": "8bbcf4d2",
   "metadata": {},
   "source": [
    "Q1. Explain Class and Object with respect to Object-Oriented Programming. Give a suitable example."
   ]
  },
  {
   "cell_type": "markdown",
   "id": "7b7b62d8",
   "metadata": {},
   "source": [
    "Ans:A class is a blueprint or a template that describes the properties and behaviors of objects.\n",
    "\n",
    "An object, on the other hand, is an instance of a class, which means it is a specific entity that has its own set of values for the properties defined by the class.\n",
    "\n",
    "For example, consider a class named \"Car\" which has properties such as \"color\", \"model\", \"year\", and \"speed\". "
   ]
  },
  {
   "cell_type": "markdown",
   "id": "415e2431",
   "metadata": {},
   "source": [
    "Q2. Name the four pillars of OOPs."
   ]
  },
  {
   "cell_type": "markdown",
   "id": "0e7a21b0",
   "metadata": {},
   "source": [
    "Ans: The four pillars of OOPs are:\n",
    "        Inheritance, abstraction, Encapsulation, Polymorphism"
   ]
  },
  {
   "cell_type": "markdown",
   "id": "d64e4cc3",
   "metadata": {},
   "source": [
    "Q3. Explain why the __init__() function is used. Give a suitable example."
   ]
  },
  {
   "cell_type": "markdown",
   "id": "009a15d2",
   "metadata": {},
   "source": [
    "Ans:__init__() is a special method in Python that is used as a constructor for initializing an instance of a class. When you create an object of a class in Python, __init__() is automatically called with the arguments that you pass while creating the object.\n",
    "\n",
    "The main purpose of __init__() is to initialize the attributes (variables) of the class to their initial values. It takes at least one argument, which is usually named self and refers to the instance of the class that is being created. Other arguments can be passed to __init__() to set the initial values of the attributes of the class."
   ]
  },
  {
   "cell_type": "code",
   "execution_count": 7,
   "id": "5c094d04",
   "metadata": {},
   "outputs": [],
   "source": [
    "class person:\n",
    "    def __init__(self, name, age):\n",
    "        self.name = name\n",
    "        self.age = age\n"
   ]
  },
  {
   "cell_type": "code",
   "execution_count": 8,
   "id": "e50dc8f8",
   "metadata": {},
   "outputs": [],
   "source": [
    "person= person(\"ankit\",28)"
   ]
  },
  {
   "cell_type": "code",
   "execution_count": 10,
   "id": "41bd3468",
   "metadata": {},
   "outputs": [
    {
     "data": {
      "text/plain": [
       "28"
      ]
     },
     "execution_count": 10,
     "metadata": {},
     "output_type": "execute_result"
    }
   ],
   "source": [
    "person.age"
   ]
  },
  {
   "cell_type": "markdown",
   "id": "03290c61",
   "metadata": {},
   "source": [
    "Q4. Why self is used in OOPs?"
   ]
  },
  {
   "cell_type": "markdown",
   "id": "253f0dfc",
   "metadata": {},
   "source": [
    "self is a special keyword that refers to the current instance of a class. It is used to access the attributes and methods of the current object, as well as to create new attributes and methods for that object."
   ]
  },
  {
   "cell_type": "code",
   "execution_count": null,
   "id": "ccd69e05",
   "metadata": {},
   "outputs": [],
   "source": []
  },
  {
   "cell_type": "code",
   "execution_count": null,
   "id": "c677c606",
   "metadata": {},
   "outputs": [],
   "source": []
  },
  {
   "cell_type": "markdown",
   "id": "9b6815c6",
   "metadata": {},
   "source": [
    "Inheritance is defined as the mechanism of inheriting the properties of the base class to the child class.\n",
    "\n",
    "Example:\n",
    "\n",
    "Single Inheritance\n",
    "\n",
    "Multiple Inheritance\n",
    "\n",
    "Multilevel Inheritance"
   ]
  },
  {
   "cell_type": "code",
   "execution_count": null,
   "id": "931ea534",
   "metadata": {},
   "outputs": [],
   "source": []
  }
 ],
 "metadata": {
  "kernelspec": {
   "display_name": "Python 3 (ipykernel)",
   "language": "python",
   "name": "python3"
  },
  "language_info": {
   "codemirror_mode": {
    "name": "ipython",
    "version": 3
   },
   "file_extension": ".py",
   "mimetype": "text/x-python",
   "name": "python",
   "nbconvert_exporter": "python",
   "pygments_lexer": "ipython3",
   "version": "3.10.9"
  }
 },
 "nbformat": 4,
 "nbformat_minor": 5
}
