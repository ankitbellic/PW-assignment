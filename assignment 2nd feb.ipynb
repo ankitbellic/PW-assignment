{
 "cells": [
  {
   "cell_type": "markdown",
   "id": "7a556eab",
   "metadata": {},
   "source": [
    "Q1:what are the characteristics of tuple?\n",
    "\n",
    "Ans:Tuple is immutable, duplicate items are alloowed, insertion order is preserved,heteogenous items allowed.\n",
    "\n",
    "Q2. What are the two tuple methods in python? Give an example of each method. Give a reason why\n",
    "tuples have only two in-built methods as compared to Lists.\n",
    "Ans: The two tuple methods in python are: \n",
    "     1. count() It is used to count number of occurences of specified element.\n",
    "     2. Index() Searches the tuple for a specified value and returns the position of where it was found.\n",
    "    The reason for tuple to have only two methods is because tuple im immutable and list is mutable and both of them have every\n",
    "    similarities other than the part of mutability."
   ]
  },
  {
   "cell_type": "markdown",
   "id": "b34a2236",
   "metadata": {},
   "source": [
    "Example of index() and count()"
   ]
  },
  {
   "cell_type": "code",
   "execution_count": 19,
   "id": "c2ff0117",
   "metadata": {},
   "outputs": [
    {
     "name": "stdout",
     "output_type": "stream",
     "text": [
      "5\n"
     ]
    }
   ],
   "source": [
    "t=(10,20,30,40,10)\n",
    "print(len(t))"
   ]
  },
  {
   "cell_type": "code",
   "execution_count": 16,
   "id": "b180c73d",
   "metadata": {},
   "outputs": [
    {
     "name": "stdout",
     "output_type": "stream",
     "text": [
      "3\n"
     ]
    }
   ],
   "source": [
    "x=t.index(40)\n",
    "print(x)"
   ]
  },
  {
   "cell_type": "code",
   "execution_count": 20,
   "id": "390c662d",
   "metadata": {},
   "outputs": [
    {
     "name": "stdout",
     "output_type": "stream",
     "text": [
      "2\n"
     ]
    }
   ],
   "source": [
    "y=t.count(10)\n",
    "print(y)"
   ]
  },
  {
   "cell_type": "markdown",
   "id": "e6fdc37e",
   "metadata": {},
   "source": [
    "Q3. Which collection datatypes in python do not allow duplicate items? Write a code using a set to remove\n",
    "duplicates from the given list.\n",
    "List = [1, 1, 1, 2, 1, 3, 1, 4, 2, 1, 2, 2, 2, 3, 2, 4, 3, 1, 3, 2, 3, 3, 3, 4, 4, 1, 4, 2, 4, 3, 4, 4]\n",
    "\n",
    "Ans: All fundamental datatypes in python are immutable. Ex: int,flot,string,bool,tuple,frozenset"
   ]
  },
  {
   "cell_type": "code",
   "execution_count": 31,
   "id": "068781ad",
   "metadata": {},
   "outputs": [
    {
     "name": "stdout",
     "output_type": "stream",
     "text": [
      "The original list is: [1, 1, 1, 2, 1, 3, 1, 4, 2, 1, 2, 2, 2, 3, 2, 4, 3, 1, 3, 2, 3, 3, 3, 4, 4, 1, 4, 2, 4, 3, 4, 4]\n",
      "The list after removing duplicates is : [1, 2, 3, 4]\n"
     ]
    }
   ],
   "source": [
    "x = [1, 1, 1, 2, 1, 3, 1, 4, 2, 1, 2, 2, 2, 3, 2, 4, 3, 1, 3, 2, 3, 3, 3, 4, 4, 1, 4, 2, 4, 3, 4, 4]\n",
    "print(\"The original list is:\", x)\n",
    "y = list(set(x))\n",
    "print(\"The list after removing duplicates is :\", y)"
   ]
  },
  {
   "cell_type": "markdown",
   "id": "2dccc50b",
   "metadata": {},
   "source": [
    "Q4. Explain the difference between the union() and update() methods for a set. Give an example of\n",
    "each method.\n",
    "\n",
    "Ans:a)union():Return a set containing the union of sets\n",
    "\n",
    "    (b) update():Update the set with another set, or any other iterable"
   ]
  },
  {
   "cell_type": "code",
   "execution_count": 41,
   "id": "526e06b8",
   "metadata": {},
   "outputs": [
    {
     "name": "stdout",
     "output_type": "stream",
     "text": [
      "{'c', 'm', 'g', 'a', 'b'}\n",
      "{'c', 'a', 'b'}\n",
      "{'g', 'a', 'm'}\n"
     ]
    }
   ],
   "source": [
    "x = {\"a\", \"b\", \"c\"}\n",
    "y = {\"g\", \"m\", \"a\"}\n",
    "\n",
    "z = x.union(y)\n",
    "\n",
    "print(z)\n",
    "print(x)\n",
    "print(y)"
   ]
  },
  {
   "cell_type": "code",
   "execution_count": 40,
   "id": "9167f772",
   "metadata": {},
   "outputs": [
    {
     "name": "stdout",
     "output_type": "stream",
     "text": [
      "{'c', 'm', 'g', 'a', 'b'}\n",
      "{'g', 'a', 'm'}\n"
     ]
    }
   ],
   "source": [
    "x = {\"a\", \"b\", \"c\"}\n",
    "y = {\"g\", \"m\", \"a\"}\n",
    "\n",
    "x.update(y)\n",
    "\n",
    "print(x)\n",
    "print(y)"
   ]
  },
  {
   "cell_type": "markdown",
   "id": "1639687f",
   "metadata": {},
   "source": [
    "Q5. What is a dictionary? Give an example. Also, state whether a dictionary is ordered or unordered.\n",
    "\n",
    "Ans:Dictionaries are used to store data values in key:value pairs.\n",
    "\n",
    "A dictionary is a collection which is ordered, changeable and do not allow duplicates."
   ]
  },
  {
   "cell_type": "code",
   "execution_count": 58,
   "id": "e4af72bc",
   "metadata": {},
   "outputs": [
    {
     "ename": "SyntaxError",
     "evalue": "':' expected after dictionary key (1969214975.py, line 1)",
     "output_type": "error",
     "traceback": [
      "\u001b[1;36m  Cell \u001b[1;32mIn[58], line 1\u001b[1;36m\u001b[0m\n\u001b[1;33m    d={\"name\": \"abc\",\"age\":26,\"course enrolled\": \"data science\",{\"nmae\":\"xyz\",\"profession\":\"sudent\"}}\u001b[0m\n\u001b[1;37m                                                                                                   ^\u001b[0m\n\u001b[1;31mSyntaxError\u001b[0m\u001b[1;31m:\u001b[0m ':' expected after dictionary key\n"
     ]
    }
   ],
   "source": [
    "d={\"name\": \"abc\",\"age\":26,\"course enrolled\": \"data science\",{\"nmae\":\"xyz\",\"profession\":\"sudent\"}}\n",
    "type(d)"
   ]
  },
  {
   "cell_type": "markdown",
   "id": "20aa8921",
   "metadata": {},
   "source": [
    "Q6. Can we create a nested dictionary? If so, please give an example by creating a simple one-level\n",
    "nested dictionary.\n",
    "\n",
    "Ans: Yes, we can create nested dictionary."
   ]
  },
  {
   "cell_type": "code",
   "execution_count": 59,
   "id": "dc9c0595",
   "metadata": {},
   "outputs": [
    {
     "data": {
      "text/plain": [
       "dict"
      ]
     },
     "execution_count": 59,
     "metadata": {},
     "output_type": "execute_result"
    }
   ],
   "source": [
    "k={\"name\" : \"abc\",\"age\": 26,\"area\": {\"place\": \"cp\", \"location\": \"Opposite LIC office\"}}\n",
    "type(k)"
   ]
  },
  {
   "cell_type": "markdown",
   "id": "38576b0b",
   "metadata": {},
   "source": [
    "Q7. Using setdefault() method, create key named topics in the given dictionary and also add the value of\n",
    "the key as this list ['Python', 'Machine Learning’, 'Deep Learning']"
   ]
  },
  {
   "cell_type": "code",
   "execution_count": 71,
   "id": "ab434053",
   "metadata": {},
   "outputs": [
    {
     "data": {
      "text/plain": [
       "['python', 'Machine Learning', 'Deep Learning']"
      ]
     },
     "execution_count": 71,
     "metadata": {},
     "output_type": "execute_result"
    }
   ],
   "source": [
    "x={\"topics\":[\"python\",\"Machine Learning\",\"Deep Learning\"]}\n",
    "x.setdefault(\"topics\")"
   ]
  },
  {
   "cell_type": "markdown",
   "id": "9ff48fbb",
   "metadata": {},
   "source": [
    "Q8. What are the three view objects in dictionaries? Use the three in-built methods in python to display\n",
    "these three view objects for the given dictionary.\n",
    "dict1 = {'Sport': 'Cricket' , 'Teams': ['India', 'Australia', 'England', 'South Africa', 'Sri Lanka', 'New Zealand']}\n",
    "\n",
    "Ans:In Python, there are three dictionary view objects:\n",
    "\n",
    "keys() — shows us all the keys of a given dictionary, as a sequence.\n",
    "\n",
    "values() — shows us all values of a dictionary, as a sequence.\n",
    "\n",
    "items() — shows us all the key-value pairs of a dictionary, once again as a sequence.\n"
   ]
  },
  {
   "cell_type": "code",
   "execution_count": 89,
   "id": "db310525",
   "metadata": {},
   "outputs": [
    {
     "name": "stdout",
     "output_type": "stream",
     "text": [
      "dict_keys(['Sport', 'Teams'])\n",
      "dict_values(['Cricket', ['India', 'Australia', 'England', 'South Africa', 'Sri Lanka', 'New Zealand']])\n",
      "dict_items([('Sport', 'Cricket'), ('Teams', ['India', 'Australia', 'England', 'South Africa', 'Sri Lanka', 'New Zealand'])])\n"
     ]
    }
   ],
   "source": [
    "dict1 = {'Sport': 'Cricket' , 'Teams': ['India', 'Australia', 'England', 'South Africa', 'Sri Lanka', 'New Zealand']}\n",
    "print(dict1.keys())\n",
    "print(dict1.values())\n",
    "print(dict1.items())"
   ]
  },
  {
   "cell_type": "code",
   "execution_count": null,
   "id": "5d83d314",
   "metadata": {},
   "outputs": [],
   "source": []
  }
 ],
 "metadata": {
  "kernelspec": {
   "display_name": "Python 3 (ipykernel)",
   "language": "python",
   "name": "python3"
  },
  "language_info": {
   "codemirror_mode": {
    "name": "ipython",
    "version": 3
   },
   "file_extension": ".py",
   "mimetype": "text/x-python",
   "name": "python",
   "nbconvert_exporter": "python",
   "pygments_lexer": "ipython3",
   "version": "3.10.9"
  }
 },
 "nbformat": 4,
 "nbformat_minor": 5
}
