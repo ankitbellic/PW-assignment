{
 "cells": [
  {
   "cell_type": "markdown",
   "id": "3c11312f",
   "metadata": {},
   "source": [
    "Q1. Which keyword is used to create a function? Create a function to return a list of odd numbers in the\n",
    "range of 1 to 25."
   ]
  },
  {
   "cell_type": "markdown",
   "id": "1d4a620e",
   "metadata": {},
   "source": [
    "Ans: The keyword used to create function is def."
   ]
  },
  {
   "cell_type": "code",
   "execution_count": 7,
   "id": "d6fc271e",
   "metadata": {},
   "outputs": [],
   "source": [
    "def odd_no(n):\n",
    "    l=[]\n",
    "    for i in range(n):\n",
    "        if i%2!=0:\n",
    "            l.append(i)\n",
    "    return l\n",
    "    \n",
    "    "
   ]
  },
  {
   "cell_type": "code",
   "execution_count": 8,
   "id": "59604c48",
   "metadata": {},
   "outputs": [
    {
     "data": {
      "text/plain": [
       "[1, 3, 5, 7, 9, 11, 13, 15, 17, 19, 21, 23, 25]"
      ]
     },
     "execution_count": 8,
     "metadata": {},
     "output_type": "execute_result"
    }
   ],
   "source": [
    "odd_no(26)"
   ]
  },
  {
   "cell_type": "markdown",
   "id": "000d7411",
   "metadata": {},
   "source": [
    "Q2. Why *args and **kwargs is used in some functions? Create a function each for *args and **kwargs to\n",
    "demonstrate their use."
   ]
  },
  {
   "cell_type": "markdown",
   "id": "34011ab0",
   "metadata": {},
   "source": [
    "Ans: *args is used to assign variable number of arguments, data type tuple\n",
    "whereas **kwargs is used to assign variable number of arguments. data type dictionary that is key:value."
   ]
  },
  {
   "cell_type": "code",
   "execution_count": 11,
   "id": "0ef13071",
   "metadata": {},
   "outputs": [],
   "source": [
    "def test1(*args):\n",
    "    return args"
   ]
  },
  {
   "cell_type": "code",
   "execution_count": 12,
   "id": "08a9b31b",
   "metadata": {},
   "outputs": [
    {
     "data": {
      "text/plain": [
       "tuple"
      ]
     },
     "execution_count": 12,
     "metadata": {},
     "output_type": "execute_result"
    }
   ],
   "source": [
    "type(test1())"
   ]
  },
  {
   "cell_type": "code",
   "execution_count": 13,
   "id": "a7721aea",
   "metadata": {},
   "outputs": [
    {
     "data": {
      "text/plain": [
       "(1, 2, 5, 8, 9, ['shiva', 'pw skills', 5, 56], (45, 45, 2, 2, 58, 'hyd'))"
      ]
     },
     "execution_count": 13,
     "metadata": {},
     "output_type": "execute_result"
    }
   ],
   "source": [
    "test1(1,2,5,8,9,[\"shiva\",\"pw skills\",5,56],(45,45,2,2,58,\"hyd\"))"
   ]
  },
  {
   "cell_type": "code",
   "execution_count": 14,
   "id": "2c280302",
   "metadata": {},
   "outputs": [],
   "source": [
    "def test2(**kwargs):\n",
    "    return kwargs"
   ]
  },
  {
   "cell_type": "code",
   "execution_count": 18,
   "id": "3d79ceb5",
   "metadata": {},
   "outputs": [
    {
     "data": {
      "text/plain": [
       "{'a': 8,\n",
       " 'b': 9,\n",
       " 'c': [5, 8, 4, 5, 5, 'hp', 'compaq'],\n",
       " 'd': (5, 87, 89, 56, 22, 'xyz')}"
      ]
     },
     "execution_count": 18,
     "metadata": {},
     "output_type": "execute_result"
    }
   ],
   "source": [
    "test2(a=8,b=9,c=[5,8,4,5,5,\"hp\",\"compaq\"],d=(5,87,89,56,22,\"xyz\"))"
   ]
  },
  {
   "cell_type": "code",
   "execution_count": 19,
   "id": "89f74148",
   "metadata": {},
   "outputs": [
    {
     "data": {
      "text/plain": [
       "dict"
      ]
     },
     "execution_count": 19,
     "metadata": {},
     "output_type": "execute_result"
    }
   ],
   "source": [
    "type(test2())"
   ]
  },
  {
   "cell_type": "markdown",
   "id": "7d6afccf",
   "metadata": {},
   "source": [
    "Q3. What is an iterator in python? Name the method used to initialise the iterator object and the method\n",
    "used for iteration. Use these methods to print the first five elements of the given list [2, 4, 6, 8, 10, 12, 14, 16,\n",
    "18, 20]."
   ]
  },
  {
   "cell_type": "markdown",
   "id": "84b4e583",
   "metadata": {},
   "source": [
    "Ans:Iterator in Python is an object that is used to iterate over iterable objects like lists, tuples, dicts, and sets. The iterator object is initialized using the iter() method. It uses the next() method for iteration."
   ]
  },
  {
   "cell_type": "code",
   "execution_count": 22,
   "id": "9cf88449",
   "metadata": {},
   "outputs": [
    {
     "name": "stdout",
     "output_type": "stream",
     "text": [
      "2\n",
      "4\n",
      "6\n",
      "8\n",
      "10\n"
     ]
    }
   ],
   "source": [
    "l=[2, 4, 6, 8, 10, 12, 14, 16, 18, 20]\n",
    "L_iter= iter(l)\n",
    "print(next(L_iter))\n",
    "print(next(L_iter))\n",
    "print(next(L_iter))\n",
    "print(next(L_iter))\n",
    "print(next(L_iter))"
   ]
  },
  {
   "cell_type": "markdown",
   "id": "188b528f",
   "metadata": {},
   "source": [
    "Q4. What is a generator function in python? Why yield keyword is used? Give an example of a generator\n",
    "function."
   ]
  },
  {
   "cell_type": "markdown",
   "id": "4a0e855d",
   "metadata": {},
   "source": [
    "Ans: A generator-function is defined like a normal function, it doesn't give all value at one time but one value at one time. it does so with the yield keyword rather than return. If the body of a def contains yield, the function automatically becomes a generator function. yield keyword is used to fetch one value at a time rather than all at once.\n"
   ]
  },
  {
   "cell_type": "code",
   "execution_count": 23,
   "id": "cce1d9db",
   "metadata": {},
   "outputs": [
    {
     "name": "stdout",
     "output_type": "stream",
     "text": [
      "0\n",
      "1\n",
      "2\n"
     ]
    }
   ],
   "source": [
    "def my_generator(n):\n",
    "    value = 0\n",
    "    while value < n:\n",
    "        yield value\n",
    "        value += 1\n",
    "for value in my_generator(3):\n",
    "    print(value)\n",
    "    "
   ]
  },
  {
   "cell_type": "code",
   "execution_count": 42,
   "id": "60123aa5",
   "metadata": {},
   "outputs": [],
   "source": []
  },
  {
   "cell_type": "code",
   "execution_count": null,
   "id": "99177292",
   "metadata": {},
   "outputs": [],
   "source": []
  }
 ],
 "metadata": {
  "kernelspec": {
   "display_name": "Python 3 (ipykernel)",
   "language": "python",
   "name": "python3"
  },
  "language_info": {
   "codemirror_mode": {
    "name": "ipython",
    "version": 3
   },
   "file_extension": ".py",
   "mimetype": "text/x-python",
   "name": "python",
   "nbconvert_exporter": "python",
   "pygments_lexer": "ipython3",
   "version": "3.10.9"
  }
 },
 "nbformat": 4,
 "nbformat_minor": 5
}
